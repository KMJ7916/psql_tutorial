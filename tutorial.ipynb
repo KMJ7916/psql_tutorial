{
 "cells": [
  {
   "cell_type": "code",
   "execution_count": 1,
   "metadata": {},
   "outputs": [
    {
     "name": "stdout",
     "output_type": "stream",
     "text": [
      "데이터베이스에 성공적으로 연결되었습니다.\n"
     ]
    }
   ],
   "source": [
    "import psycopg2\n",
    "\n",
    "# 연결 파라미터 설정\n",
    "conn_params = {\n",
    "    'dbname': 'testdb',\n",
    "    'user': 'postgres',\n",
    "    'password': '1234',\n",
    "    'host': 'localhost',  # 데이터베이스 서버가 로컬에 있을 경우\n",
    "}\n",
    "\n",
    "# 데이터베이스 연결 시도\n",
    "try:\n",
    "    conn = psycopg2.connect(**conn_params)\n",
    "    print(\"데이터베이스에 성공적으로 연결되었습니다.\")\n",
    "except psycopg2.Error as e:\n",
    "    print(\"데이터베이스 연결 중 오류가 발생했습니다.\")\n",
    "    print(e)"
   ]
  },
  {
   "cell_type": "code",
   "execution_count": 2,
   "metadata": {},
   "outputs": [
    {
     "data": {
      "text/plain": [
       "<connection object at 0x0000016DBD590AE0; dsn: 'user=postgres password=xxx dbname=testdb host=localhost', closed: 0>"
      ]
     },
     "execution_count": 2,
     "metadata": {},
     "output_type": "execute_result"
    }
   ],
   "source": [
    "conn"
   ]
  },
  {
   "cell_type": "code",
   "execution_count": 3,
   "metadata": {},
   "outputs": [
    {
     "name": "stdout",
     "output_type": "stream",
     "text": [
      "테이블이 성공적으로 생성되었습니다.\n"
     ]
    }
   ],
   "source": [
    "# 커서 객체 생성\n",
    "cur = conn.cursor()\n",
    "\n",
    "# SQL 쿼리 실행: 테이블 생성\n",
    "create_table_query = \"\"\"\n",
    "CREATE TABLE IF NOT EXISTS users (\n",
    "    id SERIAL PRIMARY KEY,\n",
    "    name VARCHAR(50),\n",
    "    age INT\n",
    ");\n",
    "\"\"\"\n",
    "cur.execute(create_table_query)\n",
    "conn.commit()  # 쿼리 결과를 데이터베이스에 반영\n",
    "\n",
    "print(\"테이블이 성공적으로 생성되었습니다.\")"
   ]
  },
  {
   "cell_type": "code",
   "execution_count": 4,
   "metadata": {},
   "outputs": [
    {
     "name": "stdout",
     "output_type": "stream",
     "text": [
      "데이터가 성공적으로 삽입되었습니다.\n"
     ]
    }
   ],
   "source": [
    "# 데이터 삽입 쿼리\n",
    "insert_query = \"\"\"\n",
    "INSERT INTO users (name, age) VALUES (%s, %s);\n",
    "\"\"\"\n",
    "# 데이터 삽입 실행\n",
    "cur.execute(insert_query, ('lion', 25))\n",
    "conn.commit()\n",
    "\n",
    "print(\"데이터가 성공적으로 삽입되었습니다.\")"
   ]
  },
  {
   "cell_type": "code",
   "execution_count": 5,
   "metadata": {},
   "outputs": [
    {
     "name": "stdout",
     "output_type": "stream",
     "text": [
      "데이터가 성공적으로 삽입되었습니다.\n"
     ]
    }
   ],
   "source": [
    "# 데이터 삽입 쿼리\n",
    "insert_query = \"\"\"\n",
    "INSERT INTO users (name, age) VALUES ('{}',{});\n",
    "\"\"\".format(\"tiger\",200)\n",
    "# 데이터 삽입 실행\n",
    "cur.execute(insert_query, ('lion', 25))\n",
    "conn.commit()\n",
    "\n",
    "print(\"데이터가 성공적으로 삽입되었습니다.\")"
   ]
  },
  {
   "cell_type": "code",
   "execution_count": 6,
   "metadata": {},
   "outputs": [
    {
     "data": {
      "text/plain": [
       "\"\\nINSERT INTO users (name, age) VALUES ('tiger',200);\\n\""
      ]
     },
     "execution_count": 6,
     "metadata": {},
     "output_type": "execute_result"
    }
   ],
   "source": [
    "insert_query"
   ]
  },
  {
   "cell_type": "code",
   "execution_count": 7,
   "metadata": {},
   "outputs": [
    {
     "name": "stdout",
     "output_type": "stream",
     "text": [
      "(1, 'lion', 25)\n",
      "(2, 'tiger', 200)\n"
     ]
    }
   ],
   "source": [
    "# 데이터 조회 쿼리(select는 응답을 받아옴)\n",
    "select_query = \"SELECT * FROM users;\"\n",
    "\n",
    "# 쿼리 실행\n",
    "cur.execute(select_query)\n",
    "\n",
    "# 모든 결과 행 가져오기\n",
    "rows = cur.fetchall()\n",
    "\n",
    "for row in rows:\n",
    "    print(row)\n",
    "\n",
    "# 자원 정리\n",
    "cur.close()\n",
    "conn.close()"
   ]
  },
  {
   "cell_type": "code",
   "execution_count": 8,
   "metadata": {},
   "outputs": [],
   "source": [
    "cur.close()\n",
    "conn.close()"
   ]
  },
  {
   "cell_type": "code",
   "execution_count": 9,
   "metadata": {},
   "outputs": [],
   "source": [
    "with open(\"text.txt\",'w') as f:\n",
    "    f.write(\"hello\") #외부 자원 취득"
   ]
  },
  {
   "cell_type": "code",
   "execution_count": 10,
   "metadata": {},
   "outputs": [
    {
     "data": {
      "text/plain": [
       "5"
      ]
     },
     "execution_count": 10,
     "metadata": {},
     "output_type": "execute_result"
    }
   ],
   "source": [
    "f=open(\"text.txt\",'w')\n",
    "f.write(\"world\")"
   ]
  },
  {
   "cell_type": "code",
   "execution_count": 11,
   "metadata": {},
   "outputs": [],
   "source": [
    "f.close()"
   ]
  }
 ],
 "metadata": {
  "kernelspec": {
   "display_name": "tmp",
   "language": "python",
   "name": "python3"
  },
  "language_info": {
   "codemirror_mode": {
    "name": "ipython",
    "version": 3
   },
   "file_extension": ".py",
   "mimetype": "text/x-python",
   "name": "python",
   "nbconvert_exporter": "python",
   "pygments_lexer": "ipython3",
   "version": "3.10.13"
  }
 },
 "nbformat": 4,
 "nbformat_minor": 2
}
